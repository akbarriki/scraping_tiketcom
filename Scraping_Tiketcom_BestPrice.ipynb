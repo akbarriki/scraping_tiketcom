{
  "nbformat": 4,
  "nbformat_minor": 0,
  "metadata": {
    "colab": {
      "provenance": [],
      "authorship_tag": "ABX9TyNGDgIjQSZsoYVc3kianyTo",
      "include_colab_link": true
    },
    "kernelspec": {
      "name": "python3",
      "display_name": "Python 3"
    },
    "language_info": {
      "name": "python"
    }
  },
  "cells": [
    {
      "cell_type": "markdown",
      "metadata": {
        "id": "view-in-github",
        "colab_type": "text"
      },
      "source": [
        "<a href=\"https://colab.research.google.com/github/akbarriki/scraping_tiketcom/blob/main/Scraping_Tiketcom_BestPrice.ipynb\" target=\"_parent\"><img src=\"https://colab.research.google.com/assets/colab-badge.svg\" alt=\"Open In Colab\"/></a>"
      ]
    },
    {
      "cell_type": "code",
      "source": [
        "import pandas as pd\n",
        "import numpy as np\n",
        "import requests, json, time, math, os\n",
        "from tqdm import tqdm\n",
        "from bs4 import BeautifulSoup\n",
        "from datetime import datetime as dt\n",
        "from datetime import date\n",
        "from calendar import monthrange\n",
        "from google.colab import drive\n",
        "\n",
        "#mounting google drive\n",
        "drive.mount('/content/gdrive', force_remount=True)\n",
        "project_folder = 'gdrive/MyDrive/scraping_projects/tiketcom'\n",
        "output_file = 'tiketcom_bestprice.csv'\n",
        "os.chdir(project_folder)\n",
        "os.getcwd()"
      ],
      "metadata": {
        "colab": {
          "base_uri": "https://localhost:8080/",
          "height": 53
        },
        "id": "j7GkATH44O85",
        "outputId": "d89d23f0-0779-46ed-fd09-197a4ba626a8"
      },
      "execution_count": 1,
      "outputs": [
        {
          "output_type": "stream",
          "name": "stdout",
          "text": [
            "Mounted at /content/gdrive\n"
          ]
        },
        {
          "output_type": "execute_result",
          "data": {
            "text/plain": [
              "'/content/gdrive/MyDrive/scraping_projects/tiketcom'"
            ],
            "application/vnd.google.colaboratory.intrinsic+json": {
              "type": "string"
            }
          },
          "metadata": {},
          "execution_count": 1
        }
      ]
    },
    {
      "cell_type": "code",
      "execution_count": 2,
      "metadata": {
        "colab": {
          "base_uri": "https://localhost:8080/"
        },
        "id": "_Qu8jx--m-rg",
        "outputId": "9dde233f-76d9-4a3c-ddec-ebae6a25f9e1"
      },
      "outputs": [
        {
          "output_type": "stream",
          "name": "stdout",
          "text": [
            "BTJ\n"
          ]
        },
        {
          "output_type": "stream",
          "name": "stderr",
          "text": [
            "100%|██████████| 6/6 [00:02<00:00,  2.80it/s]\n"
          ]
        },
        {
          "output_type": "stream",
          "name": "stdout",
          "text": [
            "BDO\n"
          ]
        },
        {
          "output_type": "stream",
          "name": "stderr",
          "text": [
            "100%|██████████| 6/6 [00:02<00:00,  2.84it/s]\n"
          ]
        },
        {
          "output_type": "stream",
          "name": "stdout",
          "text": [
            "MLG\n"
          ]
        },
        {
          "output_type": "stream",
          "name": "stderr",
          "text": [
            "100%|██████████| 6/6 [00:02<00:00,  2.81it/s]\n"
          ]
        },
        {
          "output_type": "stream",
          "name": "stdout",
          "text": [
            "SRG\n"
          ]
        },
        {
          "output_type": "stream",
          "name": "stderr",
          "text": [
            "100%|██████████| 6/6 [00:02<00:00,  2.86it/s]\n"
          ]
        },
        {
          "output_type": "stream",
          "name": "stdout",
          "text": [
            "SUB\n"
          ]
        },
        {
          "output_type": "stream",
          "name": "stderr",
          "text": [
            "100%|██████████| 6/6 [00:02<00:00,  2.89it/s]\n"
          ]
        },
        {
          "output_type": "stream",
          "name": "stdout",
          "text": [
            "JOG\n"
          ]
        },
        {
          "output_type": "stream",
          "name": "stderr",
          "text": [
            "100%|██████████| 6/6 [00:02<00:00,  2.89it/s]\n"
          ]
        },
        {
          "output_type": "stream",
          "name": "stdout",
          "text": [
            "YIA\n"
          ]
        },
        {
          "output_type": "stream",
          "name": "stderr",
          "text": [
            "100%|██████████| 6/6 [00:02<00:00,  2.74it/s]\n"
          ]
        },
        {
          "output_type": "stream",
          "name": "stdout",
          "text": [
            "SOC\n"
          ]
        },
        {
          "output_type": "stream",
          "name": "stderr",
          "text": [
            "100%|██████████| 6/6 [00:02<00:00,  2.87it/s]\n"
          ]
        },
        {
          "output_type": "stream",
          "name": "stdout",
          "text": [
            "TKG\n"
          ]
        },
        {
          "output_type": "stream",
          "name": "stderr",
          "text": [
            "100%|██████████| 6/6 [00:02<00:00,  2.91it/s]\n"
          ]
        },
        {
          "output_type": "stream",
          "name": "stdout",
          "text": [
            "BTH\n"
          ]
        },
        {
          "output_type": "stream",
          "name": "stderr",
          "text": [
            "100%|██████████| 6/6 [00:02<00:00,  2.83it/s]\n"
          ]
        },
        {
          "output_type": "stream",
          "name": "stdout",
          "text": [
            "\n",
            "--Delay execution for 5 mins--\n",
            "\n",
            "BKS\n"
          ]
        },
        {
          "output_type": "stream",
          "name": "stderr",
          "text": [
            "100%|██████████| 6/6 [00:02<00:00,  2.72it/s]\n"
          ]
        },
        {
          "output_type": "stream",
          "name": "stdout",
          "text": [
            "DJB\n"
          ]
        },
        {
          "output_type": "stream",
          "name": "stderr",
          "text": [
            "100%|██████████| 6/6 [00:02<00:00,  2.85it/s]\n"
          ]
        },
        {
          "output_type": "stream",
          "name": "stdout",
          "text": [
            "KNO\n"
          ]
        },
        {
          "output_type": "stream",
          "name": "stderr",
          "text": [
            "100%|██████████| 6/6 [00:02<00:00,  2.93it/s]\n"
          ]
        },
        {
          "output_type": "stream",
          "name": "stdout",
          "text": [
            "PDG\n"
          ]
        },
        {
          "output_type": "stream",
          "name": "stderr",
          "text": [
            "100%|██████████| 6/6 [00:02<00:00,  2.95it/s]\n"
          ]
        },
        {
          "output_type": "stream",
          "name": "stdout",
          "text": [
            "PLM\n"
          ]
        },
        {
          "output_type": "stream",
          "name": "stderr",
          "text": [
            "100%|██████████| 6/6 [00:02<00:00,  2.92it/s]\n"
          ]
        },
        {
          "output_type": "stream",
          "name": "stdout",
          "text": [
            "PGK\n"
          ]
        },
        {
          "output_type": "stream",
          "name": "stderr",
          "text": [
            "100%|██████████| 6/6 [00:02<00:00,  2.76it/s]\n"
          ]
        },
        {
          "output_type": "stream",
          "name": "stdout",
          "text": [
            "PKU\n"
          ]
        },
        {
          "output_type": "stream",
          "name": "stderr",
          "text": [
            "100%|██████████| 6/6 [00:02<00:00,  2.83it/s]\n"
          ]
        },
        {
          "output_type": "stream",
          "name": "stdout",
          "text": [
            "TNJ\n"
          ]
        },
        {
          "output_type": "stream",
          "name": "stderr",
          "text": [
            "100%|██████████| 6/6 [00:02<00:00,  2.77it/s]\n"
          ]
        },
        {
          "output_type": "stream",
          "name": "stdout",
          "text": [
            "BPN\n"
          ]
        },
        {
          "output_type": "stream",
          "name": "stderr",
          "text": [
            "100%|██████████| 6/6 [00:02<00:00,  2.83it/s]\n"
          ]
        },
        {
          "output_type": "stream",
          "name": "stdout",
          "text": [
            "\n",
            "--Delay execution for 5 mins--\n",
            "\n",
            "BDJ\n"
          ]
        },
        {
          "output_type": "stream",
          "name": "stderr",
          "text": [
            "100%|██████████| 6/6 [00:02<00:00,  2.79it/s]\n"
          ]
        },
        {
          "output_type": "stream",
          "name": "stdout",
          "text": [
            "PNK\n"
          ]
        },
        {
          "output_type": "stream",
          "name": "stderr",
          "text": [
            "100%|██████████| 6/6 [00:02<00:00,  2.85it/s]\n"
          ]
        },
        {
          "output_type": "stream",
          "name": "stdout",
          "text": [
            "SRI\n"
          ]
        },
        {
          "output_type": "stream",
          "name": "stderr",
          "text": [
            "100%|██████████| 6/6 [00:01<00:00,  3.05it/s]\n"
          ]
        },
        {
          "output_type": "stream",
          "name": "stdout",
          "text": [
            "TRK\n"
          ]
        },
        {
          "output_type": "stream",
          "name": "stderr",
          "text": [
            "100%|██████████| 6/6 [00:02<00:00,  2.89it/s]\n"
          ]
        },
        {
          "output_type": "stream",
          "name": "stdout",
          "text": [
            "UPG\n"
          ]
        },
        {
          "output_type": "stream",
          "name": "stderr",
          "text": [
            "100%|██████████| 6/6 [00:02<00:00,  2.89it/s]\n"
          ]
        },
        {
          "output_type": "stream",
          "name": "stdout",
          "text": [
            "MDC\n"
          ]
        },
        {
          "output_type": "stream",
          "name": "stderr",
          "text": [
            "100%|██████████| 6/6 [00:02<00:00,  2.90it/s]\n"
          ]
        },
        {
          "output_type": "stream",
          "name": "stdout",
          "text": [
            "DPS\n"
          ]
        },
        {
          "output_type": "stream",
          "name": "stderr",
          "text": [
            "100%|██████████| 6/6 [00:02<00:00,  2.80it/s]\n"
          ]
        },
        {
          "output_type": "stream",
          "name": "stdout",
          "text": [
            "LOP\n"
          ]
        },
        {
          "output_type": "stream",
          "name": "stderr",
          "text": [
            "100%|██████████| 6/6 [00:02<00:00,  2.94it/s]\n"
          ]
        },
        {
          "output_type": "stream",
          "name": "stdout",
          "text": [
            "BIK\n"
          ]
        },
        {
          "output_type": "stream",
          "name": "stderr",
          "text": [
            "100%|██████████| 6/6 [00:02<00:00,  2.85it/s]\n"
          ]
        },
        {
          "output_type": "stream",
          "name": "stdout",
          "text": [
            "\n",
            "--Delay execution for 5 mins--\n",
            "\n",
            "DJJ\n"
          ]
        },
        {
          "output_type": "stream",
          "name": "stderr",
          "text": [
            "100%|██████████| 6/6 [00:02<00:00,  2.64it/s]\n"
          ]
        },
        {
          "output_type": "stream",
          "name": "stdout",
          "text": [
            "MKQ\n"
          ]
        },
        {
          "output_type": "stream",
          "name": "stderr",
          "text": [
            "100%|██████████| 6/6 [00:02<00:00,  2.89it/s]\n"
          ]
        }
      ],
      "source": [
        "# define execution timestamp\n",
        "exec_timestamp = dt.now()\n",
        "\n",
        "# define all required variables\n",
        "base_url = 'https://www.tiket.com/'\n",
        "\n",
        "# target list\n",
        "_data_ = []\n",
        "\n",
        "num_adult, num_child, num_infant = 1, 0, 0\n",
        "_ORIGIN_, _ORIGINTYPE_ = 'JKTC', 'CITY'\n",
        "# _DESTINATION_, _DESTINATIONTYPE_ = 'BTJ', 'AIRPORT'\n",
        "_CABINCLASS_ = 'ECONOMY'\n",
        "\n",
        "target_year = date.today().year + 1\n",
        "\n",
        "selecteddate = '2023-04-19'\n",
        "startdate = '2023-04-01'\n",
        "enddate = '2023-04-30'\n",
        "\n",
        "_DESTINATIONLIST_ = ['BTJ','BDO','MLG','SRG','SUB','JOG','YIA','SOC','TKG','BTH',\n",
        "                     'BKS','DJB','KNO','PDG','PLM','PGK','PKU','TNJ','BPN','BDJ',\n",
        "                     'PNK','SRI','TRK','UPG','MDC','DPS','LOP','BIK','DJJ','MKQ']\n",
        "\n",
        "for i, _DESTINATION_ in enumerate(_DESTINATIONLIST_):\n",
        "  print(_DESTINATION_)\n",
        "  for m in tqdm(range(6)):\n",
        "        \n",
        "    # define current month, number of days in current month, and default selected date (default selected date for april 2023 is 19)\n",
        "    curmonth = m+1\n",
        "    curmonth_numdays = str(monthrange(target_year, m+1)[-1]).rjust(2,'0')\n",
        "    selecteddate = f'{target_year}-{curmonth}-15' if curmonth != 4 else f'{target_year}-{curmonth}-19'\n",
        "    startdate = f'{target_year}-{curmonth}-01'\n",
        "    enddate = f'{target_year}-{curmonth}-{curmonth_numdays}'\n",
        "\n",
        "    # define the type of destination (i.e., CITY or AIRPORT)\n",
        "    _DESTINATIONTYPE_ = 'AIRPORT'\n",
        "\n",
        "    # target url\n",
        "    url = f'{base_url}ms-gateway/tix-price-summary/priceSummary/priceSummary?adult={num_adult}&child={num_child}&infant={num_infant}&origin={_ORIGIN_}&destination={_DESTINATION_}&startDate={startdate}&endDate={enddate}&currency=IDR&originType={_ORIGINTYPE_}&destinationType={_DESTINATIONTYPE_}&cabinClass={_CABINCLASS_}&flightAggregateType=OW'\n",
        "\n",
        "    # referer url for headers setup\n",
        "    referer = f'{base_url}pesawat/search?d={_ORIGIN_}&a={_DESTINATION_}&dType={_ORIGINTYPE_}&aType={_DESTINATIONTYPE_}&date={selecteddate}&adult={num_adult}&child={num_child}&infant={num_infant}&class={_CABINCLASS_.lower()}&flexiFare=false'\n",
        "\n",
        "    # header config\n",
        "    header = {\n",
        "        'Content-Type': 'application/json',\n",
        "        'User-Agent': 'Mozilla/5.0 (Windows NT 10.0; Win64; x64) AppleWebKit/537.36 (KHTML, like Gecko) Chrome/108.0.0.0 Safari/537.36',\n",
        "        'Referer': referer,\n",
        "        'X-Country-Code': 'IDN',\n",
        "        'X-Request-id': '064f288d-65a8-4afb-87a0-a5a0647be197',\n",
        "        'X-Store-Id': 'TIKETCOM'\n",
        "    }\n",
        "\n",
        "    # scraping process\n",
        "    \n",
        "    try:\n",
        "      page = requests.get(url, headers=header)\n",
        "      response = json.loads(page.text)\n",
        "      _data_ += [{'extract_timestamp':exec_timestamp,\n",
        "                  'origin': _ORIGIN_,\n",
        "                  'destination': _DESTINATION_,\n",
        "                  'depart_date':r['date'], \n",
        "                  'best_price':r['price']} for r in response['data']]\n",
        "    except:\n",
        "      print(f'Fail to extract data (destination: {_DESTINATION_}, {target_year}-{curmonth})!')\n",
        "      print(f'error: {page}')\n",
        "\n",
        "  # delay execution to avoid response 429 (too many requests)\n",
        "  if i>0 and i % 9 == 0:  \n",
        "    print()\n",
        "    print('--Delay execution for 5 mins--')\n",
        "    time.sleep(300)\n",
        "    print()\n",
        "\n"
      ]
    },
    {
      "cell_type": "code",
      "source": [
        "# write/append data to the target csv file\n",
        "if _data_:\n",
        "  df = pd.DataFrame(_data_)\n",
        "  if not os.path.isfile(output_file):\n",
        "    df.to_csv(output_file, index=False, sep='|')\n",
        "    print(f'data has been exported to {output_file}')\n",
        "  else:\n",
        "    df.to_csv(output_file, index=False, sep='|', mode='a')\n",
        "    print(f'file {output_file} has been appended with new data')\n",
        "else:\n",
        "  print('No data found')"
      ],
      "metadata": {
        "colab": {
          "base_uri": "https://localhost:8080/"
        },
        "id": "y_s1gHBcJw_6",
        "outputId": "d2b88a06-a9e9-4abd-d23c-33a8ccf5e786"
      },
      "execution_count": 3,
      "outputs": [
        {
          "output_type": "stream",
          "name": "stdout",
          "text": [
            "file tiketcom_bestprice.csv has been appended with new data\n"
          ]
        }
      ]
    },
    {
      "cell_type": "code",
      "source": [
        "df_new = pd.read_csv(output_file, sep='|')\n",
        "print(f'number of records: {len(df_new)}')"
      ],
      "metadata": {
        "id": "M_Gm8H8lyphu",
        "colab": {
          "base_uri": "https://localhost:8080/"
        },
        "outputId": "574a4d10-9ae6-4b0a-a80e-306246f57633"
      },
      "execution_count": 4,
      "outputs": [
        {
          "output_type": "stream",
          "name": "stdout",
          "text": [
            "number of records: 9538\n"
          ]
        }
      ]
    },
    {
      "cell_type": "code",
      "source": [
        "df_new.head()"
      ],
      "metadata": {
        "colab": {
          "base_uri": "https://localhost:8080/",
          "height": 206
        },
        "id": "FF0zS9iz8lx5",
        "outputId": "5565edad-f795-49fd-e701-17d602a2778d"
      },
      "execution_count": 7,
      "outputs": [
        {
          "output_type": "execute_result",
          "data": {
            "text/plain": [
              "            extract_timestamp origin destination depart_date best_price\n",
              "0  2022-12-24 11:25:37.656571   JKTC         BTJ  2023-04-25  2310582.0\n",
              "1  2022-12-24 11:25:37.656571   JKTC         BTJ  2023-04-04  2310582.0\n",
              "2  2022-12-24 11:25:37.656571   JKTC         BTJ  2023-04-27  2310582.0\n",
              "3  2022-12-24 11:25:37.656571   JKTC         BTJ  2023-04-29  2310582.0\n",
              "4  2022-12-24 11:25:37.656571   JKTC         BTJ  2023-04-01  2316313.0"
            ],
            "text/html": [
              "\n",
              "  <div id=\"df-b21b5d59-0ef8-4534-907d-1d381b966804\">\n",
              "    <div class=\"colab-df-container\">\n",
              "      <div>\n",
              "<style scoped>\n",
              "    .dataframe tbody tr th:only-of-type {\n",
              "        vertical-align: middle;\n",
              "    }\n",
              "\n",
              "    .dataframe tbody tr th {\n",
              "        vertical-align: top;\n",
              "    }\n",
              "\n",
              "    .dataframe thead th {\n",
              "        text-align: right;\n",
              "    }\n",
              "</style>\n",
              "<table border=\"1\" class=\"dataframe\">\n",
              "  <thead>\n",
              "    <tr style=\"text-align: right;\">\n",
              "      <th></th>\n",
              "      <th>extract_timestamp</th>\n",
              "      <th>origin</th>\n",
              "      <th>destination</th>\n",
              "      <th>depart_date</th>\n",
              "      <th>best_price</th>\n",
              "    </tr>\n",
              "  </thead>\n",
              "  <tbody>\n",
              "    <tr>\n",
              "      <th>0</th>\n",
              "      <td>2022-12-24 11:25:37.656571</td>\n",
              "      <td>JKTC</td>\n",
              "      <td>BTJ</td>\n",
              "      <td>2023-04-25</td>\n",
              "      <td>2310582.0</td>\n",
              "    </tr>\n",
              "    <tr>\n",
              "      <th>1</th>\n",
              "      <td>2022-12-24 11:25:37.656571</td>\n",
              "      <td>JKTC</td>\n",
              "      <td>BTJ</td>\n",
              "      <td>2023-04-04</td>\n",
              "      <td>2310582.0</td>\n",
              "    </tr>\n",
              "    <tr>\n",
              "      <th>2</th>\n",
              "      <td>2022-12-24 11:25:37.656571</td>\n",
              "      <td>JKTC</td>\n",
              "      <td>BTJ</td>\n",
              "      <td>2023-04-27</td>\n",
              "      <td>2310582.0</td>\n",
              "    </tr>\n",
              "    <tr>\n",
              "      <th>3</th>\n",
              "      <td>2022-12-24 11:25:37.656571</td>\n",
              "      <td>JKTC</td>\n",
              "      <td>BTJ</td>\n",
              "      <td>2023-04-29</td>\n",
              "      <td>2310582.0</td>\n",
              "    </tr>\n",
              "    <tr>\n",
              "      <th>4</th>\n",
              "      <td>2022-12-24 11:25:37.656571</td>\n",
              "      <td>JKTC</td>\n",
              "      <td>BTJ</td>\n",
              "      <td>2023-04-01</td>\n",
              "      <td>2316313.0</td>\n",
              "    </tr>\n",
              "  </tbody>\n",
              "</table>\n",
              "</div>\n",
              "      <button class=\"colab-df-convert\" onclick=\"convertToInteractive('df-b21b5d59-0ef8-4534-907d-1d381b966804')\"\n",
              "              title=\"Convert this dataframe to an interactive table.\"\n",
              "              style=\"display:none;\">\n",
              "        \n",
              "  <svg xmlns=\"http://www.w3.org/2000/svg\" height=\"24px\"viewBox=\"0 0 24 24\"\n",
              "       width=\"24px\">\n",
              "    <path d=\"M0 0h24v24H0V0z\" fill=\"none\"/>\n",
              "    <path d=\"M18.56 5.44l.94 2.06.94-2.06 2.06-.94-2.06-.94-.94-2.06-.94 2.06-2.06.94zm-11 1L8.5 8.5l.94-2.06 2.06-.94-2.06-.94L8.5 2.5l-.94 2.06-2.06.94zm10 10l.94 2.06.94-2.06 2.06-.94-2.06-.94-.94-2.06-.94 2.06-2.06.94z\"/><path d=\"M17.41 7.96l-1.37-1.37c-.4-.4-.92-.59-1.43-.59-.52 0-1.04.2-1.43.59L10.3 9.45l-7.72 7.72c-.78.78-.78 2.05 0 2.83L4 21.41c.39.39.9.59 1.41.59.51 0 1.02-.2 1.41-.59l7.78-7.78 2.81-2.81c.8-.78.8-2.07 0-2.86zM5.41 20L4 18.59l7.72-7.72 1.47 1.35L5.41 20z\"/>\n",
              "  </svg>\n",
              "      </button>\n",
              "      \n",
              "  <style>\n",
              "    .colab-df-container {\n",
              "      display:flex;\n",
              "      flex-wrap:wrap;\n",
              "      gap: 12px;\n",
              "    }\n",
              "\n",
              "    .colab-df-convert {\n",
              "      background-color: #E8F0FE;\n",
              "      border: none;\n",
              "      border-radius: 50%;\n",
              "      cursor: pointer;\n",
              "      display: none;\n",
              "      fill: #1967D2;\n",
              "      height: 32px;\n",
              "      padding: 0 0 0 0;\n",
              "      width: 32px;\n",
              "    }\n",
              "\n",
              "    .colab-df-convert:hover {\n",
              "      background-color: #E2EBFA;\n",
              "      box-shadow: 0px 1px 2px rgba(60, 64, 67, 0.3), 0px 1px 3px 1px rgba(60, 64, 67, 0.15);\n",
              "      fill: #174EA6;\n",
              "    }\n",
              "\n",
              "    [theme=dark] .colab-df-convert {\n",
              "      background-color: #3B4455;\n",
              "      fill: #D2E3FC;\n",
              "    }\n",
              "\n",
              "    [theme=dark] .colab-df-convert:hover {\n",
              "      background-color: #434B5C;\n",
              "      box-shadow: 0px 1px 3px 1px rgba(0, 0, 0, 0.15);\n",
              "      filter: drop-shadow(0px 1px 2px rgba(0, 0, 0, 0.3));\n",
              "      fill: #FFFFFF;\n",
              "    }\n",
              "  </style>\n",
              "\n",
              "      <script>\n",
              "        const buttonEl =\n",
              "          document.querySelector('#df-b21b5d59-0ef8-4534-907d-1d381b966804 button.colab-df-convert');\n",
              "        buttonEl.style.display =\n",
              "          google.colab.kernel.accessAllowed ? 'block' : 'none';\n",
              "\n",
              "        async function convertToInteractive(key) {\n",
              "          const element = document.querySelector('#df-b21b5d59-0ef8-4534-907d-1d381b966804');\n",
              "          const dataTable =\n",
              "            await google.colab.kernel.invokeFunction('convertToInteractive',\n",
              "                                                     [key], {});\n",
              "          if (!dataTable) return;\n",
              "\n",
              "          const docLinkHtml = 'Like what you see? Visit the ' +\n",
              "            '<a target=\"_blank\" href=https://colab.research.google.com/notebooks/data_table.ipynb>data table notebook</a>'\n",
              "            + ' to learn more about interactive tables.';\n",
              "          element.innerHTML = '';\n",
              "          dataTable['output_type'] = 'display_data';\n",
              "          await google.colab.output.renderOutput(dataTable, element);\n",
              "          const docLink = document.createElement('div');\n",
              "          docLink.innerHTML = docLinkHtml;\n",
              "          element.appendChild(docLink);\n",
              "        }\n",
              "      </script>\n",
              "    </div>\n",
              "  </div>\n",
              "  "
            ]
          },
          "metadata": {},
          "execution_count": 7
        }
      ]
    },
    {
      "cell_type": "code",
      "source": [
        "# observe best price from jakarta to KNO\n",
        "df_new[df_new['destination'] == 'KNO'].sort_values('depart_date', ascending=True)"
      ],
      "metadata": {
        "id": "_qfGswnQUl2P",
        "colab": {
          "base_uri": "https://localhost:8080/",
          "height": 424
        },
        "outputId": "39d09409-5593-49c8-ba18-d8aeb7cdc481"
      },
      "execution_count": 6,
      "outputs": [
        {
          "output_type": "execute_result",
          "data": {
            "text/plain": [
              "               extract_timestamp origin destination depart_date best_price\n",
              "6525  2022-12-29 03:13:11.798742   JKTC         KNO  2023-01-01   936450.0\n",
              "6506  2022-12-29 03:13:11.798742   JKTC         KNO  2023-01-02   936450.0\n",
              "6507  2022-12-29 03:13:11.798742   JKTC         KNO  2023-01-03   936450.0\n",
              "6501  2022-12-29 03:13:11.798742   JKTC         KNO  2023-01-04   936450.0\n",
              "6504  2022-12-29 03:13:11.798742   JKTC         KNO  2023-01-05   936450.0\n",
              "...                          ...    ...         ...         ...        ...\n",
              "6655  2022-12-29 03:13:11.798742   JKTC         KNO  2023-06-26  1377550.0\n",
              "6660  2022-12-29 03:13:11.798742   JKTC         KNO  2023-06-27  1377550.0\n",
              "6659  2022-12-29 03:13:11.798742   JKTC         KNO  2023-06-28  1377550.0\n",
              "6670  2022-12-29 03:13:11.798742   JKTC         KNO  2023-06-29  1377550.0\n",
              "6681  2022-12-29 03:13:11.798742   JKTC         KNO  2023-06-30  1377550.0\n",
              "\n",
              "[331 rows x 5 columns]"
            ],
            "text/html": [
              "\n",
              "  <div id=\"df-38b06dc3-c622-4b42-b623-068cebd28587\">\n",
              "    <div class=\"colab-df-container\">\n",
              "      <div>\n",
              "<style scoped>\n",
              "    .dataframe tbody tr th:only-of-type {\n",
              "        vertical-align: middle;\n",
              "    }\n",
              "\n",
              "    .dataframe tbody tr th {\n",
              "        vertical-align: top;\n",
              "    }\n",
              "\n",
              "    .dataframe thead th {\n",
              "        text-align: right;\n",
              "    }\n",
              "</style>\n",
              "<table border=\"1\" class=\"dataframe\">\n",
              "  <thead>\n",
              "    <tr style=\"text-align: right;\">\n",
              "      <th></th>\n",
              "      <th>extract_timestamp</th>\n",
              "      <th>origin</th>\n",
              "      <th>destination</th>\n",
              "      <th>depart_date</th>\n",
              "      <th>best_price</th>\n",
              "    </tr>\n",
              "  </thead>\n",
              "  <tbody>\n",
              "    <tr>\n",
              "      <th>6525</th>\n",
              "      <td>2022-12-29 03:13:11.798742</td>\n",
              "      <td>JKTC</td>\n",
              "      <td>KNO</td>\n",
              "      <td>2023-01-01</td>\n",
              "      <td>936450.0</td>\n",
              "    </tr>\n",
              "    <tr>\n",
              "      <th>6506</th>\n",
              "      <td>2022-12-29 03:13:11.798742</td>\n",
              "      <td>JKTC</td>\n",
              "      <td>KNO</td>\n",
              "      <td>2023-01-02</td>\n",
              "      <td>936450.0</td>\n",
              "    </tr>\n",
              "    <tr>\n",
              "      <th>6507</th>\n",
              "      <td>2022-12-29 03:13:11.798742</td>\n",
              "      <td>JKTC</td>\n",
              "      <td>KNO</td>\n",
              "      <td>2023-01-03</td>\n",
              "      <td>936450.0</td>\n",
              "    </tr>\n",
              "    <tr>\n",
              "      <th>6501</th>\n",
              "      <td>2022-12-29 03:13:11.798742</td>\n",
              "      <td>JKTC</td>\n",
              "      <td>KNO</td>\n",
              "      <td>2023-01-04</td>\n",
              "      <td>936450.0</td>\n",
              "    </tr>\n",
              "    <tr>\n",
              "      <th>6504</th>\n",
              "      <td>2022-12-29 03:13:11.798742</td>\n",
              "      <td>JKTC</td>\n",
              "      <td>KNO</td>\n",
              "      <td>2023-01-05</td>\n",
              "      <td>936450.0</td>\n",
              "    </tr>\n",
              "    <tr>\n",
              "      <th>...</th>\n",
              "      <td>...</td>\n",
              "      <td>...</td>\n",
              "      <td>...</td>\n",
              "      <td>...</td>\n",
              "      <td>...</td>\n",
              "    </tr>\n",
              "    <tr>\n",
              "      <th>6655</th>\n",
              "      <td>2022-12-29 03:13:11.798742</td>\n",
              "      <td>JKTC</td>\n",
              "      <td>KNO</td>\n",
              "      <td>2023-06-26</td>\n",
              "      <td>1377550.0</td>\n",
              "    </tr>\n",
              "    <tr>\n",
              "      <th>6660</th>\n",
              "      <td>2022-12-29 03:13:11.798742</td>\n",
              "      <td>JKTC</td>\n",
              "      <td>KNO</td>\n",
              "      <td>2023-06-27</td>\n",
              "      <td>1377550.0</td>\n",
              "    </tr>\n",
              "    <tr>\n",
              "      <th>6659</th>\n",
              "      <td>2022-12-29 03:13:11.798742</td>\n",
              "      <td>JKTC</td>\n",
              "      <td>KNO</td>\n",
              "      <td>2023-06-28</td>\n",
              "      <td>1377550.0</td>\n",
              "    </tr>\n",
              "    <tr>\n",
              "      <th>6670</th>\n",
              "      <td>2022-12-29 03:13:11.798742</td>\n",
              "      <td>JKTC</td>\n",
              "      <td>KNO</td>\n",
              "      <td>2023-06-29</td>\n",
              "      <td>1377550.0</td>\n",
              "    </tr>\n",
              "    <tr>\n",
              "      <th>6681</th>\n",
              "      <td>2022-12-29 03:13:11.798742</td>\n",
              "      <td>JKTC</td>\n",
              "      <td>KNO</td>\n",
              "      <td>2023-06-30</td>\n",
              "      <td>1377550.0</td>\n",
              "    </tr>\n",
              "  </tbody>\n",
              "</table>\n",
              "<p>331 rows × 5 columns</p>\n",
              "</div>\n",
              "      <button class=\"colab-df-convert\" onclick=\"convertToInteractive('df-38b06dc3-c622-4b42-b623-068cebd28587')\"\n",
              "              title=\"Convert this dataframe to an interactive table.\"\n",
              "              style=\"display:none;\">\n",
              "        \n",
              "  <svg xmlns=\"http://www.w3.org/2000/svg\" height=\"24px\"viewBox=\"0 0 24 24\"\n",
              "       width=\"24px\">\n",
              "    <path d=\"M0 0h24v24H0V0z\" fill=\"none\"/>\n",
              "    <path d=\"M18.56 5.44l.94 2.06.94-2.06 2.06-.94-2.06-.94-.94-2.06-.94 2.06-2.06.94zm-11 1L8.5 8.5l.94-2.06 2.06-.94-2.06-.94L8.5 2.5l-.94 2.06-2.06.94zm10 10l.94 2.06.94-2.06 2.06-.94-2.06-.94-.94-2.06-.94 2.06-2.06.94z\"/><path d=\"M17.41 7.96l-1.37-1.37c-.4-.4-.92-.59-1.43-.59-.52 0-1.04.2-1.43.59L10.3 9.45l-7.72 7.72c-.78.78-.78 2.05 0 2.83L4 21.41c.39.39.9.59 1.41.59.51 0 1.02-.2 1.41-.59l7.78-7.78 2.81-2.81c.8-.78.8-2.07 0-2.86zM5.41 20L4 18.59l7.72-7.72 1.47 1.35L5.41 20z\"/>\n",
              "  </svg>\n",
              "      </button>\n",
              "      \n",
              "  <style>\n",
              "    .colab-df-container {\n",
              "      display:flex;\n",
              "      flex-wrap:wrap;\n",
              "      gap: 12px;\n",
              "    }\n",
              "\n",
              "    .colab-df-convert {\n",
              "      background-color: #E8F0FE;\n",
              "      border: none;\n",
              "      border-radius: 50%;\n",
              "      cursor: pointer;\n",
              "      display: none;\n",
              "      fill: #1967D2;\n",
              "      height: 32px;\n",
              "      padding: 0 0 0 0;\n",
              "      width: 32px;\n",
              "    }\n",
              "\n",
              "    .colab-df-convert:hover {\n",
              "      background-color: #E2EBFA;\n",
              "      box-shadow: 0px 1px 2px rgba(60, 64, 67, 0.3), 0px 1px 3px 1px rgba(60, 64, 67, 0.15);\n",
              "      fill: #174EA6;\n",
              "    }\n",
              "\n",
              "    [theme=dark] .colab-df-convert {\n",
              "      background-color: #3B4455;\n",
              "      fill: #D2E3FC;\n",
              "    }\n",
              "\n",
              "    [theme=dark] .colab-df-convert:hover {\n",
              "      background-color: #434B5C;\n",
              "      box-shadow: 0px 1px 3px 1px rgba(0, 0, 0, 0.15);\n",
              "      filter: drop-shadow(0px 1px 2px rgba(0, 0, 0, 0.3));\n",
              "      fill: #FFFFFF;\n",
              "    }\n",
              "  </style>\n",
              "\n",
              "      <script>\n",
              "        const buttonEl =\n",
              "          document.querySelector('#df-38b06dc3-c622-4b42-b623-068cebd28587 button.colab-df-convert');\n",
              "        buttonEl.style.display =\n",
              "          google.colab.kernel.accessAllowed ? 'block' : 'none';\n",
              "\n",
              "        async function convertToInteractive(key) {\n",
              "          const element = document.querySelector('#df-38b06dc3-c622-4b42-b623-068cebd28587');\n",
              "          const dataTable =\n",
              "            await google.colab.kernel.invokeFunction('convertToInteractive',\n",
              "                                                     [key], {});\n",
              "          if (!dataTable) return;\n",
              "\n",
              "          const docLinkHtml = 'Like what you see? Visit the ' +\n",
              "            '<a target=\"_blank\" href=https://colab.research.google.com/notebooks/data_table.ipynb>data table notebook</a>'\n",
              "            + ' to learn more about interactive tables.';\n",
              "          element.innerHTML = '';\n",
              "          dataTable['output_type'] = 'display_data';\n",
              "          await google.colab.output.renderOutput(dataTable, element);\n",
              "          const docLink = document.createElement('div');\n",
              "          docLink.innerHTML = docLinkHtml;\n",
              "          element.appendChild(docLink);\n",
              "        }\n",
              "      </script>\n",
              "    </div>\n",
              "  </div>\n",
              "  "
            ]
          },
          "metadata": {},
          "execution_count": 6
        }
      ]
    }
  ]
}