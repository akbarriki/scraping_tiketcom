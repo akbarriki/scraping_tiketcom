{
  "nbformat": 4,
  "nbformat_minor": 0,
  "metadata": {
    "colab": {
      "provenance": [],
      "authorship_tag": "ABX9TyNYgUpQDApPVSJEO08EJUcm",
      "include_colab_link": true
    },
    "kernelspec": {
      "name": "python3",
      "display_name": "Python 3"
    },
    "language_info": {
      "name": "python"
    }
  },
  "cells": [
    {
      "cell_type": "markdown",
      "metadata": {
        "id": "view-in-github",
        "colab_type": "text"
      },
      "source": [
        "<a href=\"https://colab.research.google.com/github/akbarriki/scraping_tiketcom/blob/main/Scraping_Tiketcom_BestPrice.ipynb\" target=\"_parent\"><img src=\"https://colab.research.google.com/assets/colab-badge.svg\" alt=\"Open In Colab\"/></a>"
      ]
    },
    {
      "cell_type": "markdown",
      "source": [
        "# **Scraping Best Price for Flights from Jakarta to Selected Airports in Indonesia**\n",
        "\n",
        "##This dataset is collected from [Tiket.com](https://tiket.com), an Online Travel Agent Platform in Indonesia\n",
        "\n",
        "Author: [Riki Akbar](https://akbarriki.github.io)\n",
        "<br />Last update: 2 February 2023<br />Dataset is now available [here](https://www.kaggle.com/datasets/datasciencerikiakbar/tiketcom-best-price-for-flights-from-jakarta)\n",
        "\n",
        "Feel free to make any code adjustment but **please keep the attribution remains**\n"
      ],
      "metadata": {
        "id": "01NSro7e2avf"
      }
    },
    {
      "cell_type": "code",
      "source": [
        "# *************************************************\n",
        "# Author      : Riki Akbar (http://github.com/akbarriki)\n",
        "# Last Update : 2 February 2023\n",
        "\n",
        "# Please keep this attribution remains. Thanks.\n",
        "# *************************************************"
      ],
      "metadata": {
        "id": "QXNhEx9429hc"
      },
      "execution_count": 1,
      "outputs": []
    },
    {
      "cell_type": "markdown",
      "source": [
        "###Imports and Mounting Drive"
      ],
      "metadata": {
        "id": "p3WF7qOtCMjQ"
      }
    },
    {
      "cell_type": "code",
      "source": [
        "import pandas as pd\n",
        "import requests, json, time, math, os\n",
        "from tqdm import tqdm\n",
        "from datetime import datetime as dt\n",
        "from datetime import date\n",
        "from calendar import monthrange\n",
        "from dateutil.relativedelta import relativedelta\n",
        "from google.colab import drive\n",
        "\n",
        "#mounting google drive\n",
        "drive.mount('/content/gdrive', force_remount=True)\n",
        "project_folder = 'gdrive/MyDrive/scraping_projects/tiketcom'\n",
        "output_file = 'tiketcom_bestprice.csv'\n",
        "os.chdir(project_folder)\n",
        "os.getcwd()"
      ],
      "metadata": {
        "colab": {
          "base_uri": "https://localhost:8080/",
          "height": 53
        },
        "id": "j7GkATH44O85",
        "outputId": "fc85b9ce-74d5-40ba-cef0-cb411dfc658d"
      },
      "execution_count": 2,
      "outputs": [
        {
          "output_type": "stream",
          "name": "stdout",
          "text": [
            "Mounted at /content/gdrive\n"
          ]
        },
        {
          "output_type": "execute_result",
          "data": {
            "text/plain": [
              "'/content/gdrive/MyDrive/scraping_projects/tiketcom'"
            ],
            "application/vnd.google.colaboratory.intrinsic+json": {
              "type": "string"
            }
          },
          "metadata": {},
          "execution_count": 2
        }
      ]
    },
    {
      "cell_type": "markdown",
      "source": [
        "### Scraping"
      ],
      "metadata": {
        "id": "YAtwsmopCU7m"
      }
    },
    {
      "cell_type": "code",
      "execution_count": 3,
      "metadata": {
        "colab": {
          "base_uri": "https://localhost:8080/"
        },
        "id": "_Qu8jx--m-rg",
        "outputId": "290737f3-88b2-458e-f1e3-e2a9e6ade7a0"
      },
      "outputs": [
        {
          "metadata": {
            "tags": null
          },
          "name": "stdout",
          "output_type": "stream",
          "text": [
            "BTJ\n"
          ]
        },
        {
          "metadata": {
            "tags": null
          },
          "name": "stderr",
          "output_type": "stream",
          "text": [
            "100%|██████████| 6/6 [00:02<00:00,  2.60it/s]\n"
          ]
        },
        {
          "metadata": {
            "tags": null
          },
          "name": "stdout",
          "output_type": "stream",
          "text": [
            "BDO\n"
          ]
        },
        {
          "metadata": {
            "tags": null
          },
          "name": "stderr",
          "output_type": "stream",
          "text": [
            "100%|██████████| 6/6 [00:02<00:00,  2.75it/s]\n"
          ]
        },
        {
          "metadata": {
            "tags": null
          },
          "name": "stdout",
          "output_type": "stream",
          "text": [
            "MLG\n"
          ]
        },
        {
          "metadata": {
            "tags": null
          },
          "name": "stderr",
          "output_type": "stream",
          "text": [
            "100%|██████████| 6/6 [00:02<00:00,  2.75it/s]\n"
          ]
        },
        {
          "metadata": {
            "tags": null
          },
          "name": "stdout",
          "output_type": "stream",
          "text": [
            "SRG\n"
          ]
        },
        {
          "metadata": {
            "tags": null
          },
          "name": "stderr",
          "output_type": "stream",
          "text": [
            "100%|██████████| 6/6 [00:02<00:00,  2.79it/s]\n"
          ]
        },
        {
          "metadata": {
            "tags": null
          },
          "name": "stdout",
          "output_type": "stream",
          "text": [
            "SUB\n"
          ]
        },
        {
          "metadata": {
            "tags": null
          },
          "name": "stderr",
          "output_type": "stream",
          "text": [
            "100%|██████████| 6/6 [00:02<00:00,  2.69it/s]\n"
          ]
        },
        {
          "metadata": {
            "tags": null
          },
          "name": "stdout",
          "output_type": "stream",
          "text": [
            "JOG\n"
          ]
        },
        {
          "metadata": {
            "tags": null
          },
          "name": "stderr",
          "output_type": "stream",
          "text": [
            "100%|██████████| 6/6 [00:02<00:00,  2.77it/s]\n"
          ]
        },
        {
          "metadata": {
            "tags": null
          },
          "name": "stdout",
          "output_type": "stream",
          "text": [
            "YIA\n"
          ]
        },
        {
          "metadata": {
            "tags": null
          },
          "name": "stderr",
          "output_type": "stream",
          "text": [
            "100%|██████████| 6/6 [00:02<00:00,  2.78it/s]\n"
          ]
        },
        {
          "metadata": {
            "tags": null
          },
          "name": "stdout",
          "output_type": "stream",
          "text": [
            "SOC\n"
          ]
        },
        {
          "metadata": {
            "tags": null
          },
          "name": "stderr",
          "output_type": "stream",
          "text": [
            "100%|██████████| 6/6 [00:02<00:00,  2.82it/s]\n"
          ]
        },
        {
          "metadata": {
            "tags": null
          },
          "name": "stdout",
          "output_type": "stream",
          "text": [
            "TKG\n"
          ]
        },
        {
          "metadata": {
            "tags": null
          },
          "name": "stderr",
          "output_type": "stream",
          "text": [
            "100%|██████████| 6/6 [00:02<00:00,  2.84it/s]\n"
          ]
        },
        {
          "metadata": {
            "tags": null
          },
          "name": "stdout",
          "output_type": "stream",
          "text": [
            "BTH\n"
          ]
        },
        {
          "metadata": {
            "tags": null
          },
          "name": "stderr",
          "output_type": "stream",
          "text": [
            "100%|██████████| 6/6 [00:02<00:00,  2.74it/s]\n"
          ]
        },
        {
          "metadata": {
            "tags": null
          },
          "name": "stdout",
          "output_type": "stream",
          "text": [
            "\n",
            "--Delay execution for 5 mins--\n",
            "\n",
            "BKS\n"
          ]
        },
        {
          "metadata": {
            "tags": null
          },
          "name": "stderr",
          "output_type": "stream",
          "text": [
            "100%|██████████| 6/6 [00:02<00:00,  2.71it/s]\n"
          ]
        },
        {
          "metadata": {
            "tags": null
          },
          "name": "stdout",
          "output_type": "stream",
          "text": [
            "DJB\n"
          ]
        },
        {
          "metadata": {
            "tags": null
          },
          "name": "stderr",
          "output_type": "stream",
          "text": [
            "100%|██████████| 6/6 [00:02<00:00,  2.63it/s]\n"
          ]
        },
        {
          "metadata": {
            "tags": null
          },
          "name": "stdout",
          "output_type": "stream",
          "text": [
            "KNO\n"
          ]
        },
        {
          "metadata": {
            "tags": null
          },
          "name": "stderr",
          "output_type": "stream",
          "text": [
            "100%|██████████| 6/6 [00:02<00:00,  2.75it/s]\n"
          ]
        },
        {
          "metadata": {
            "tags": null
          },
          "name": "stdout",
          "output_type": "stream",
          "text": [
            "PDG\n"
          ]
        },
        {
          "metadata": {
            "tags": null
          },
          "name": "stderr",
          "output_type": "stream",
          "text": [
            "100%|██████████| 6/6 [00:02<00:00,  2.84it/s]\n"
          ]
        },
        {
          "metadata": {
            "tags": null
          },
          "name": "stdout",
          "output_type": "stream",
          "text": [
            "PLM\n"
          ]
        },
        {
          "metadata": {
            "tags": null
          },
          "name": "stderr",
          "output_type": "stream",
          "text": [
            "100%|██████████| 6/6 [00:02<00:00,  2.77it/s]\n"
          ]
        },
        {
          "metadata": {
            "tags": null
          },
          "name": "stdout",
          "output_type": "stream",
          "text": [
            "PGK\n"
          ]
        },
        {
          "metadata": {
            "tags": null
          },
          "name": "stderr",
          "output_type": "stream",
          "text": [
            "100%|██████████| 6/6 [00:02<00:00,  2.73it/s]\n"
          ]
        },
        {
          "metadata": {
            "tags": null
          },
          "name": "stdout",
          "output_type": "stream",
          "text": [
            "PKU\n"
          ]
        },
        {
          "metadata": {
            "tags": null
          },
          "name": "stderr",
          "output_type": "stream",
          "text": [
            "100%|██████████| 6/6 [00:02<00:00,  2.73it/s]\n"
          ]
        },
        {
          "metadata": {
            "tags": null
          },
          "name": "stdout",
          "output_type": "stream",
          "text": [
            "TNJ\n"
          ]
        },
        {
          "metadata": {
            "tags": null
          },
          "name": "stderr",
          "output_type": "stream",
          "text": [
            "100%|██████████| 6/6 [00:02<00:00,  2.85it/s]\n"
          ]
        },
        {
          "metadata": {
            "tags": null
          },
          "name": "stdout",
          "output_type": "stream",
          "text": [
            "BPN\n"
          ]
        },
        {
          "metadata": {
            "tags": null
          },
          "name": "stderr",
          "output_type": "stream",
          "text": [
            "100%|██████████| 6/6 [00:02<00:00,  2.75it/s]\n"
          ]
        },
        {
          "metadata": {
            "tags": null
          },
          "name": "stdout",
          "output_type": "stream",
          "text": [
            "\n",
            "--Delay execution for 5 mins--\n",
            "\n",
            "BDJ\n"
          ]
        },
        {
          "metadata": {
            "tags": null
          },
          "name": "stderr",
          "output_type": "stream",
          "text": [
            "100%|██████████| 6/6 [00:02<00:00,  2.72it/s]\n"
          ]
        },
        {
          "metadata": {
            "tags": null
          },
          "name": "stdout",
          "output_type": "stream",
          "text": [
            "PNK\n"
          ]
        },
        {
          "metadata": {
            "tags": null
          },
          "name": "stderr",
          "output_type": "stream",
          "text": [
            "100%|██████████| 6/6 [00:02<00:00,  2.77it/s]\n"
          ]
        },
        {
          "metadata": {
            "tags": null
          },
          "name": "stdout",
          "output_type": "stream",
          "text": [
            "SRI\n"
          ]
        },
        {
          "metadata": {
            "tags": null
          },
          "name": "stderr",
          "output_type": "stream",
          "text": [
            "100%|██████████| 6/6 [00:02<00:00,  2.85it/s]\n"
          ]
        },
        {
          "metadata": {
            "tags": null
          },
          "name": "stdout",
          "output_type": "stream",
          "text": [
            "TRK\n"
          ]
        },
        {
          "metadata": {
            "tags": null
          },
          "name": "stderr",
          "output_type": "stream",
          "text": [
            "100%|██████████| 6/6 [00:02<00:00,  2.73it/s]\n"
          ]
        },
        {
          "metadata": {
            "tags": null
          },
          "name": "stdout",
          "output_type": "stream",
          "text": [
            "UPG\n"
          ]
        },
        {
          "metadata": {
            "tags": null
          },
          "name": "stderr",
          "output_type": "stream",
          "text": [
            "100%|██████████| 6/6 [00:02<00:00,  2.72it/s]\n"
          ]
        },
        {
          "metadata": {
            "tags": null
          },
          "name": "stdout",
          "output_type": "stream",
          "text": [
            "MDC\n"
          ]
        },
        {
          "metadata": {
            "tags": null
          },
          "name": "stderr",
          "output_type": "stream",
          "text": [
            "100%|██████████| 6/6 [00:02<00:00,  2.76it/s]\n"
          ]
        },
        {
          "metadata": {
            "tags": null
          },
          "name": "stdout",
          "output_type": "stream",
          "text": [
            "DPS\n"
          ]
        },
        {
          "metadata": {
            "tags": null
          },
          "name": "stderr",
          "output_type": "stream",
          "text": [
            "100%|██████████| 6/6 [00:02<00:00,  2.75it/s]\n"
          ]
        },
        {
          "metadata": {
            "tags": null
          },
          "name": "stdout",
          "output_type": "stream",
          "text": [
            "LOP\n"
          ]
        },
        {
          "metadata": {
            "tags": null
          },
          "name": "stderr",
          "output_type": "stream",
          "text": [
            "100%|██████████| 6/6 [00:02<00:00,  2.80it/s]\n"
          ]
        },
        {
          "metadata": {
            "tags": null
          },
          "name": "stdout",
          "output_type": "stream",
          "text": [
            "BIK\n"
          ]
        },
        {
          "metadata": {
            "tags": null
          },
          "name": "stderr",
          "output_type": "stream",
          "text": [
            "100%|██████████| 6/6 [00:02<00:00,  2.77it/s]\n"
          ]
        },
        {
          "output_type": "stream",
          "name": "stdout",
          "text": [
            "\n",
            "--Delay execution for 5 mins--\n",
            "\n",
            "DJJ\n"
          ]
        },
        {
          "output_type": "stream",
          "name": "stderr",
          "text": [
            "100%|██████████| 6/6 [00:02<00:00,  2.69it/s]\n"
          ]
        },
        {
          "output_type": "stream",
          "name": "stdout",
          "text": [
            "MKQ\n"
          ]
        },
        {
          "output_type": "stream",
          "name": "stderr",
          "text": [
            "100%|██████████| 6/6 [00:02<00:00,  2.76it/s]\n"
          ]
        }
      ],
      "source": [
        "# define execution timestamp\n",
        "exec_timestamp = dt.now()\n",
        "\n",
        "# define all required variables\n",
        "base_url = 'https://www.tiket.com/'\n",
        "\n",
        "# target list\n",
        "_data_ = []\n",
        "\n",
        "num_adult, num_child, num_infant = 1, 0, 0\n",
        "_ORIGIN_, _ORIGINTYPE_ = 'JKTC', 'CITY'\n",
        "# _DESTINATION_, _DESTINATIONTYPE_ = 'BTJ', 'AIRPORT'\n",
        "_CABINCLASS_ = 'ECONOMY'\n",
        "\n",
        "target_year = date.today().year + 1\n",
        "\n",
        "selecteddate = '2023-04-19'\n",
        "startdate = '2023-04-01'\n",
        "enddate = '2023-04-30'\n",
        "\n",
        "_DESTINATIONLIST_ = ['BTJ','BDO','MLG','SRG','SUB','JOG','YIA','SOC','TKG','BTH',\n",
        "                     'BKS','DJB','KNO','PDG','PLM','PGK','PKU','TNJ','BPN','BDJ',\n",
        "                     'PNK','SRI','TRK','UPG','MDC','DPS','LOP','BIK','DJJ','MKQ']\n",
        "\n",
        "for i, _DESTINATION_ in enumerate(_DESTINATIONLIST_):\n",
        "  print(_DESTINATION_)\n",
        "  for m in tqdm(range(6)):\n",
        "        \n",
        "    # define current month, number of days in current month, and default selected date (default selected date for april 2023 is 19)\n",
        "    cdate = (dt.today() + relativedelta(months=m))\n",
        "    cyear, cmonth = cdate.year, cdate.month\n",
        "    startdate = dt.strftime(date(cyear, cmonth, 1), \"%Y-%m-%d\")\n",
        "    enddate = dt.strftime(date(cyear, cmonth, monthrange(cyear, cmonth)[-1]), \"%Y-%m-%d\")\n",
        "    selecteddate = dt.strftime(date(cyear, cmonth, 15), \"%Y-%m-%d\") if cmonth != 4 else dt.strftime(date(cyear, cmonth, 19), \"%Y-%m-%d\")\n",
        "    \n",
        "    # define the type of destination (i.e., CITY or AIRPORT)\n",
        "    _DESTINATIONTYPE_ = 'AIRPORT'\n",
        "\n",
        "    # target url\n",
        "    url = f'{base_url}ms-gateway/tix-price-summary/priceSummary/priceSummary?adult={num_adult}&child={num_child}&infant={num_infant}&origin={_ORIGIN_}&destination={_DESTINATION_}&startDate={startdate}&endDate={enddate}&currency=IDR&originType={_ORIGINTYPE_}&destinationType={_DESTINATIONTYPE_}&cabinClass={_CABINCLASS_}&flightAggregateType=OW'\n",
        "\n",
        "    # referer url for headers setup\n",
        "    referer = f'{base_url}pesawat/search?d={_ORIGIN_}&a={_DESTINATION_}&dType={_ORIGINTYPE_}&aType={_DESTINATIONTYPE_}&date={selecteddate}&adult={num_adult}&child={num_child}&infant={num_infant}&class={_CABINCLASS_.lower()}&flexiFare=false'\n",
        "\n",
        "    # header config\n",
        "    header = {\n",
        "        'Content-Type': 'application/json',\n",
        "        'User-Agent': 'Mozilla/5.0 (Windows NT 10.0; Win64; x64) AppleWebKit/537.36 (KHTML, like Gecko) Chrome/108.0.0.0 Safari/537.36',\n",
        "        'Referer': referer,\n",
        "        'X-Country-Code': 'IDN',\n",
        "        'X-Request-id': '064f288d-65a8-4afb-87a0-a5a0647be197',\n",
        "        'X-Store-Id': 'TIKETCOM'\n",
        "    }\n",
        "\n",
        "    # scraping process\n",
        "    \n",
        "    try:\n",
        "      page = requests.get(url, headers=header)\n",
        "      response = json.loads(page.text)\n",
        "      _data_ += [{'extract_timestamp':exec_timestamp,\n",
        "                  'origin': _ORIGIN_,\n",
        "                  'destination': _DESTINATION_,\n",
        "                  'depart_date':r['date'], \n",
        "                  'best_price':r['price']} for r in response['data']]\n",
        "    except:\n",
        "      print(f'Fail to extract data (destination: {_DESTINATION_}, {target_year}-{cmonth})!')\n",
        "      print(f'error: {page}')\n",
        "\n",
        "  # delay execution to avoid response 429 (too many requests)\n",
        "  if i>0 and i % 9 == 0:  \n",
        "    print()\n",
        "    print('--Delay execution for 5 mins--')\n",
        "    time.sleep(300)\n",
        "    print()\n",
        "\n"
      ]
    },
    {
      "cell_type": "markdown",
      "source": [
        "### Export the Result"
      ],
      "metadata": {
        "id": "VWmrzb43CX4H"
      }
    },
    {
      "cell_type": "code",
      "source": [
        "# write/append data to the target csv file\n",
        "if _data_:\n",
        "  df = pd.DataFrame(_data_)\n",
        "  if not os.path.isfile(output_file):\n",
        "    df.to_csv(output_file, index=False, sep='|')\n",
        "    print(f'data has been exported to {output_file}')\n",
        "  else:\n",
        "    df.to_csv(output_file, index=False, sep='|', mode='a', header=False)\n",
        "    print(f'file {output_file} has been appended with new data')\n",
        "else:\n",
        "  print('No data found')"
      ],
      "metadata": {
        "id": "y_s1gHBcJw_6",
        "colab": {
          "base_uri": "https://localhost:8080/"
        },
        "outputId": "d6f31a99-d8dc-4816-988e-530ab8c902eb"
      },
      "execution_count": 4,
      "outputs": [
        {
          "output_type": "stream",
          "name": "stdout",
          "text": [
            "file tiketcom_bestprice.csv has been appended with new data\n"
          ]
        }
      ]
    },
    {
      "cell_type": "markdown",
      "source": [
        "###Sanity Checks"
      ],
      "metadata": {
        "id": "xkyU12FbBHs0"
      }
    },
    {
      "cell_type": "markdown",
      "source": [
        "#####check the total number of records"
      ],
      "metadata": {
        "id": "EXpAJ0j_BNXV"
      }
    },
    {
      "cell_type": "code",
      "source": [
        "df_new = pd.read_csv(output_file, sep='|')\n",
        "print(f'number of records: {len(df_new)}')"
      ],
      "metadata": {
        "id": "M_Gm8H8lyphu",
        "colab": {
          "base_uri": "https://localhost:8080/"
        },
        "outputId": "d1101367-544c-44ab-cb8c-e807e1dfd3fd"
      },
      "execution_count": 5,
      "outputs": [
        {
          "output_type": "stream",
          "name": "stdout",
          "text": [
            "number of records: 45438\n"
          ]
        }
      ]
    },
    {
      "cell_type": "markdown",
      "source": [
        "#####check the top 5 rows"
      ],
      "metadata": {
        "id": "9j5dBBuuBQ0-"
      }
    },
    {
      "cell_type": "code",
      "source": [
        "df_new.head()"
      ],
      "metadata": {
        "id": "FF0zS9iz8lx5",
        "colab": {
          "base_uri": "https://localhost:8080/",
          "height": 206
        },
        "outputId": "bb943d78-29ed-4fec-ac4d-bbb648a9f99b"
      },
      "execution_count": 6,
      "outputs": [
        {
          "output_type": "execute_result",
          "data": {
            "text/plain": [
              "            extract_timestamp origin destination depart_date  best_price\n",
              "0  2022-12-24 11:25:37.656571   JKTC         BTJ  2023-04-25   2310582.0\n",
              "1  2022-12-24 11:25:37.656571   JKTC         BTJ  2023-04-04   2310582.0\n",
              "2  2022-12-24 11:25:37.656571   JKTC         BTJ  2023-04-27   2310582.0\n",
              "3  2022-12-24 11:25:37.656571   JKTC         BTJ  2023-04-29   2310582.0\n",
              "4  2022-12-24 11:25:37.656571   JKTC         BTJ  2023-04-01   2316313.0"
            ],
            "text/html": [
              "\n",
              "  <div id=\"df-7796bd51-b541-4957-9515-000331f4920e\">\n",
              "    <div class=\"colab-df-container\">\n",
              "      <div>\n",
              "<style scoped>\n",
              "    .dataframe tbody tr th:only-of-type {\n",
              "        vertical-align: middle;\n",
              "    }\n",
              "\n",
              "    .dataframe tbody tr th {\n",
              "        vertical-align: top;\n",
              "    }\n",
              "\n",
              "    .dataframe thead th {\n",
              "        text-align: right;\n",
              "    }\n",
              "</style>\n",
              "<table border=\"1\" class=\"dataframe\">\n",
              "  <thead>\n",
              "    <tr style=\"text-align: right;\">\n",
              "      <th></th>\n",
              "      <th>extract_timestamp</th>\n",
              "      <th>origin</th>\n",
              "      <th>destination</th>\n",
              "      <th>depart_date</th>\n",
              "      <th>best_price</th>\n",
              "    </tr>\n",
              "  </thead>\n",
              "  <tbody>\n",
              "    <tr>\n",
              "      <th>0</th>\n",
              "      <td>2022-12-24 11:25:37.656571</td>\n",
              "      <td>JKTC</td>\n",
              "      <td>BTJ</td>\n",
              "      <td>2023-04-25</td>\n",
              "      <td>2310582.0</td>\n",
              "    </tr>\n",
              "    <tr>\n",
              "      <th>1</th>\n",
              "      <td>2022-12-24 11:25:37.656571</td>\n",
              "      <td>JKTC</td>\n",
              "      <td>BTJ</td>\n",
              "      <td>2023-04-04</td>\n",
              "      <td>2310582.0</td>\n",
              "    </tr>\n",
              "    <tr>\n",
              "      <th>2</th>\n",
              "      <td>2022-12-24 11:25:37.656571</td>\n",
              "      <td>JKTC</td>\n",
              "      <td>BTJ</td>\n",
              "      <td>2023-04-27</td>\n",
              "      <td>2310582.0</td>\n",
              "    </tr>\n",
              "    <tr>\n",
              "      <th>3</th>\n",
              "      <td>2022-12-24 11:25:37.656571</td>\n",
              "      <td>JKTC</td>\n",
              "      <td>BTJ</td>\n",
              "      <td>2023-04-29</td>\n",
              "      <td>2310582.0</td>\n",
              "    </tr>\n",
              "    <tr>\n",
              "      <th>4</th>\n",
              "      <td>2022-12-24 11:25:37.656571</td>\n",
              "      <td>JKTC</td>\n",
              "      <td>BTJ</td>\n",
              "      <td>2023-04-01</td>\n",
              "      <td>2316313.0</td>\n",
              "    </tr>\n",
              "  </tbody>\n",
              "</table>\n",
              "</div>\n",
              "      <button class=\"colab-df-convert\" onclick=\"convertToInteractive('df-7796bd51-b541-4957-9515-000331f4920e')\"\n",
              "              title=\"Convert this dataframe to an interactive table.\"\n",
              "              style=\"display:none;\">\n",
              "        \n",
              "  <svg xmlns=\"http://www.w3.org/2000/svg\" height=\"24px\"viewBox=\"0 0 24 24\"\n",
              "       width=\"24px\">\n",
              "    <path d=\"M0 0h24v24H0V0z\" fill=\"none\"/>\n",
              "    <path d=\"M18.56 5.44l.94 2.06.94-2.06 2.06-.94-2.06-.94-.94-2.06-.94 2.06-2.06.94zm-11 1L8.5 8.5l.94-2.06 2.06-.94-2.06-.94L8.5 2.5l-.94 2.06-2.06.94zm10 10l.94 2.06.94-2.06 2.06-.94-2.06-.94-.94-2.06-.94 2.06-2.06.94z\"/><path d=\"M17.41 7.96l-1.37-1.37c-.4-.4-.92-.59-1.43-.59-.52 0-1.04.2-1.43.59L10.3 9.45l-7.72 7.72c-.78.78-.78 2.05 0 2.83L4 21.41c.39.39.9.59 1.41.59.51 0 1.02-.2 1.41-.59l7.78-7.78 2.81-2.81c.8-.78.8-2.07 0-2.86zM5.41 20L4 18.59l7.72-7.72 1.47 1.35L5.41 20z\"/>\n",
              "  </svg>\n",
              "      </button>\n",
              "      \n",
              "  <style>\n",
              "    .colab-df-container {\n",
              "      display:flex;\n",
              "      flex-wrap:wrap;\n",
              "      gap: 12px;\n",
              "    }\n",
              "\n",
              "    .colab-df-convert {\n",
              "      background-color: #E8F0FE;\n",
              "      border: none;\n",
              "      border-radius: 50%;\n",
              "      cursor: pointer;\n",
              "      display: none;\n",
              "      fill: #1967D2;\n",
              "      height: 32px;\n",
              "      padding: 0 0 0 0;\n",
              "      width: 32px;\n",
              "    }\n",
              "\n",
              "    .colab-df-convert:hover {\n",
              "      background-color: #E2EBFA;\n",
              "      box-shadow: 0px 1px 2px rgba(60, 64, 67, 0.3), 0px 1px 3px 1px rgba(60, 64, 67, 0.15);\n",
              "      fill: #174EA6;\n",
              "    }\n",
              "\n",
              "    [theme=dark] .colab-df-convert {\n",
              "      background-color: #3B4455;\n",
              "      fill: #D2E3FC;\n",
              "    }\n",
              "\n",
              "    [theme=dark] .colab-df-convert:hover {\n",
              "      background-color: #434B5C;\n",
              "      box-shadow: 0px 1px 3px 1px rgba(0, 0, 0, 0.15);\n",
              "      filter: drop-shadow(0px 1px 2px rgba(0, 0, 0, 0.3));\n",
              "      fill: #FFFFFF;\n",
              "    }\n",
              "  </style>\n",
              "\n",
              "      <script>\n",
              "        const buttonEl =\n",
              "          document.querySelector('#df-7796bd51-b541-4957-9515-000331f4920e button.colab-df-convert');\n",
              "        buttonEl.style.display =\n",
              "          google.colab.kernel.accessAllowed ? 'block' : 'none';\n",
              "\n",
              "        async function convertToInteractive(key) {\n",
              "          const element = document.querySelector('#df-7796bd51-b541-4957-9515-000331f4920e');\n",
              "          const dataTable =\n",
              "            await google.colab.kernel.invokeFunction('convertToInteractive',\n",
              "                                                     [key], {});\n",
              "          if (!dataTable) return;\n",
              "\n",
              "          const docLinkHtml = 'Like what you see? Visit the ' +\n",
              "            '<a target=\"_blank\" href=https://colab.research.google.com/notebooks/data_table.ipynb>data table notebook</a>'\n",
              "            + ' to learn more about interactive tables.';\n",
              "          element.innerHTML = '';\n",
              "          dataTable['output_type'] = 'display_data';\n",
              "          await google.colab.output.renderOutput(dataTable, element);\n",
              "          const docLink = document.createElement('div');\n",
              "          docLink.innerHTML = docLinkHtml;\n",
              "          element.appendChild(docLink);\n",
              "        }\n",
              "      </script>\n",
              "    </div>\n",
              "  </div>\n",
              "  "
            ]
          },
          "metadata": {},
          "execution_count": 6
        }
      ]
    },
    {
      "cell_type": "code",
      "source": [
        "df_new.extract_timestamp.value_counts()"
      ],
      "metadata": {
        "colab": {
          "base_uri": "https://localhost:8080/"
        },
        "id": "jjGzIe2yVwiB",
        "outputId": "d58a04df-35be-4cf2-e2e1-3b93de416aee"
      },
      "execution_count": 7,
      "outputs": [
        {
          "output_type": "execute_result",
          "data": {
            "text/plain": [
              "2022-12-29 03:13:11.798742    5203\n",
              "2022-12-31 01:49:22.466131    5203\n",
              "2023-02-01 09:17:51.827188    5202\n",
              "2023-02-01 22:44:34.976945    5184\n",
              "2023-01-02 00:37:44.519977    5174\n",
              "2023-01-16 04:58:00.791632    4775\n",
              "2023-01-05 05:03:39.672048    3480\n",
              "2023-01-09 02:03:48.781163    3480\n",
              "2023-01-15 22:27:10.250346    3364\n",
              "2022-12-24 11:25:37.656571     866\n",
              "2022-12-25 08:06:32.241556     866\n",
              "2022-12-25 12:03:33.096194     866\n",
              "2022-12-25 18:41:51.562052     866\n",
              "2022-12-26 05:04:05.676116     866\n",
              "2023-01-01 02:09:16.289170      43\n",
              "Name: extract_timestamp, dtype: int64"
            ]
          },
          "metadata": {},
          "execution_count": 7
        }
      ]
    },
    {
      "cell_type": "markdown",
      "source": [
        "#####observe the best price data for flights from Jakarta to KNO and PDG on the day of Eid El-Fitri"
      ],
      "metadata": {
        "id": "SJeD-7_PBViS"
      }
    },
    {
      "cell_type": "code",
      "source": [
        "filter = (df.extract_timestamp == df.extract_timestamp.max()) & (df.destination.isin(['BTJ'])) & (df.depart_date == '2023-04-19')\n",
        "df[filter]"
      ],
      "metadata": {
        "colab": {
          "base_uri": "https://localhost:8080/",
          "height": 81
        },
        "id": "DrjEVa9HnrAD",
        "outputId": "a29c8017-b026-4073-8909-51c2cf4d6f41"
      },
      "execution_count": 8,
      "outputs": [
        {
          "output_type": "execute_result",
          "data": {
            "text/plain": [
              "            extract_timestamp origin destination depart_date  best_price\n",
              "82 2023-02-01 22:44:34.976945   JKTC         BTJ  2023-04-19   2120630.0"
            ],
            "text/html": [
              "\n",
              "  <div id=\"df-7eb192f0-9b4c-4463-8d9a-25628516a64e\">\n",
              "    <div class=\"colab-df-container\">\n",
              "      <div>\n",
              "<style scoped>\n",
              "    .dataframe tbody tr th:only-of-type {\n",
              "        vertical-align: middle;\n",
              "    }\n",
              "\n",
              "    .dataframe tbody tr th {\n",
              "        vertical-align: top;\n",
              "    }\n",
              "\n",
              "    .dataframe thead th {\n",
              "        text-align: right;\n",
              "    }\n",
              "</style>\n",
              "<table border=\"1\" class=\"dataframe\">\n",
              "  <thead>\n",
              "    <tr style=\"text-align: right;\">\n",
              "      <th></th>\n",
              "      <th>extract_timestamp</th>\n",
              "      <th>origin</th>\n",
              "      <th>destination</th>\n",
              "      <th>depart_date</th>\n",
              "      <th>best_price</th>\n",
              "    </tr>\n",
              "  </thead>\n",
              "  <tbody>\n",
              "    <tr>\n",
              "      <th>82</th>\n",
              "      <td>2023-02-01 22:44:34.976945</td>\n",
              "      <td>JKTC</td>\n",
              "      <td>BTJ</td>\n",
              "      <td>2023-04-19</td>\n",
              "      <td>2120630.0</td>\n",
              "    </tr>\n",
              "  </tbody>\n",
              "</table>\n",
              "</div>\n",
              "      <button class=\"colab-df-convert\" onclick=\"convertToInteractive('df-7eb192f0-9b4c-4463-8d9a-25628516a64e')\"\n",
              "              title=\"Convert this dataframe to an interactive table.\"\n",
              "              style=\"display:none;\">\n",
              "        \n",
              "  <svg xmlns=\"http://www.w3.org/2000/svg\" height=\"24px\"viewBox=\"0 0 24 24\"\n",
              "       width=\"24px\">\n",
              "    <path d=\"M0 0h24v24H0V0z\" fill=\"none\"/>\n",
              "    <path d=\"M18.56 5.44l.94 2.06.94-2.06 2.06-.94-2.06-.94-.94-2.06-.94 2.06-2.06.94zm-11 1L8.5 8.5l.94-2.06 2.06-.94-2.06-.94L8.5 2.5l-.94 2.06-2.06.94zm10 10l.94 2.06.94-2.06 2.06-.94-2.06-.94-.94-2.06-.94 2.06-2.06.94z\"/><path d=\"M17.41 7.96l-1.37-1.37c-.4-.4-.92-.59-1.43-.59-.52 0-1.04.2-1.43.59L10.3 9.45l-7.72 7.72c-.78.78-.78 2.05 0 2.83L4 21.41c.39.39.9.59 1.41.59.51 0 1.02-.2 1.41-.59l7.78-7.78 2.81-2.81c.8-.78.8-2.07 0-2.86zM5.41 20L4 18.59l7.72-7.72 1.47 1.35L5.41 20z\"/>\n",
              "  </svg>\n",
              "      </button>\n",
              "      \n",
              "  <style>\n",
              "    .colab-df-container {\n",
              "      display:flex;\n",
              "      flex-wrap:wrap;\n",
              "      gap: 12px;\n",
              "    }\n",
              "\n",
              "    .colab-df-convert {\n",
              "      background-color: #E8F0FE;\n",
              "      border: none;\n",
              "      border-radius: 50%;\n",
              "      cursor: pointer;\n",
              "      display: none;\n",
              "      fill: #1967D2;\n",
              "      height: 32px;\n",
              "      padding: 0 0 0 0;\n",
              "      width: 32px;\n",
              "    }\n",
              "\n",
              "    .colab-df-convert:hover {\n",
              "      background-color: #E2EBFA;\n",
              "      box-shadow: 0px 1px 2px rgba(60, 64, 67, 0.3), 0px 1px 3px 1px rgba(60, 64, 67, 0.15);\n",
              "      fill: #174EA6;\n",
              "    }\n",
              "\n",
              "    [theme=dark] .colab-df-convert {\n",
              "      background-color: #3B4455;\n",
              "      fill: #D2E3FC;\n",
              "    }\n",
              "\n",
              "    [theme=dark] .colab-df-convert:hover {\n",
              "      background-color: #434B5C;\n",
              "      box-shadow: 0px 1px 3px 1px rgba(0, 0, 0, 0.15);\n",
              "      filter: drop-shadow(0px 1px 2px rgba(0, 0, 0, 0.3));\n",
              "      fill: #FFFFFF;\n",
              "    }\n",
              "  </style>\n",
              "\n",
              "      <script>\n",
              "        const buttonEl =\n",
              "          document.querySelector('#df-7eb192f0-9b4c-4463-8d9a-25628516a64e button.colab-df-convert');\n",
              "        buttonEl.style.display =\n",
              "          google.colab.kernel.accessAllowed ? 'block' : 'none';\n",
              "\n",
              "        async function convertToInteractive(key) {\n",
              "          const element = document.querySelector('#df-7eb192f0-9b4c-4463-8d9a-25628516a64e');\n",
              "          const dataTable =\n",
              "            await google.colab.kernel.invokeFunction('convertToInteractive',\n",
              "                                                     [key], {});\n",
              "          if (!dataTable) return;\n",
              "\n",
              "          const docLinkHtml = 'Like what you see? Visit the ' +\n",
              "            '<a target=\"_blank\" href=https://colab.research.google.com/notebooks/data_table.ipynb>data table notebook</a>'\n",
              "            + ' to learn more about interactive tables.';\n",
              "          element.innerHTML = '';\n",
              "          dataTable['output_type'] = 'display_data';\n",
              "          await google.colab.output.renderOutput(dataTable, element);\n",
              "          const docLink = document.createElement('div');\n",
              "          docLink.innerHTML = docLinkHtml;\n",
              "          element.appendChild(docLink);\n",
              "        }\n",
              "      </script>\n",
              "    </div>\n",
              "  </div>\n",
              "  "
            ]
          },
          "metadata": {},
          "execution_count": 8
        }
      ]
    },
    {
      "cell_type": "code",
      "source": [
        "from matplotlib import pyplot as plt\n",
        "import seaborn as sns\n",
        "\n",
        "# filter the destination\n",
        "filter = (df_new['destination'].isin(['BTJ'])) & (df_new['depart_date'] == '2023-04-19')\n",
        "display(df_new[filter].sort_values('extract_timestamp', ascending=True))\n",
        "\n",
        "# visualisation\n",
        "plt.figure(figsize=(21,8))\n",
        "sns.lineplot(x='extract_timestamp', y='best_price', hue='destination', data=df_new[filter].sort_values('extract_timestamp', ascending=True))\n",
        "plt.xticks(rotation=45)"
      ],
      "metadata": {
        "id": "_qfGswnQUl2P",
        "colab": {
          "base_uri": "https://localhost:8080/",
          "height": 1000
        },
        "outputId": "e85e5f20-7c8d-4ebb-ebc0-46d260e677b0"
      },
      "execution_count": 9,
      "outputs": [
        {
          "output_type": "display_data",
          "data": {
            "text/plain": [
              "                extract_timestamp origin destination depart_date  best_price\n",
              "24     2022-12-24 11:25:37.656571   JKTC         BTJ  2023-04-19   2894120.0\n",
              "890    2022-12-25 08:06:32.241556   JKTC         BTJ  2023-04-19   2894120.0\n",
              "1756   2022-12-25 12:03:33.096194   JKTC         BTJ  2023-04-19   2894120.0\n",
              "2622   2022-12-25 18:41:51.562052   JKTC         BTJ  2023-04-19   2894120.0\n",
              "3488   2022-12-26 05:04:05.676116   JKTC         BTJ  2023-04-19   2894120.0\n",
              "4444   2022-12-29 03:13:11.798742   JKTC         BTJ  2023-04-19   2894120.0\n",
              "9647   2022-12-31 01:49:22.466131   JKTC         BTJ  2023-04-19   2868330.0\n",
              "14892  2023-01-02 00:37:44.519977   JKTC         BTJ  2023-04-19   2868330.0\n",
              "30378  2023-01-16 04:58:00.791632   JKTC         BTJ  2023-04-19   2868330.0\n",
              "35131  2023-02-01 09:17:51.827188   JKTC         BTJ  2023-04-19   2105630.0\n",
              "40336  2023-02-01 22:44:34.976945   JKTC         BTJ  2023-04-19   2120630.0"
            ],
            "text/html": [
              "\n",
              "  <div id=\"df-a970ce99-f25b-4897-a05a-91236b05972d\">\n",
              "    <div class=\"colab-df-container\">\n",
              "      <div>\n",
              "<style scoped>\n",
              "    .dataframe tbody tr th:only-of-type {\n",
              "        vertical-align: middle;\n",
              "    }\n",
              "\n",
              "    .dataframe tbody tr th {\n",
              "        vertical-align: top;\n",
              "    }\n",
              "\n",
              "    .dataframe thead th {\n",
              "        text-align: right;\n",
              "    }\n",
              "</style>\n",
              "<table border=\"1\" class=\"dataframe\">\n",
              "  <thead>\n",
              "    <tr style=\"text-align: right;\">\n",
              "      <th></th>\n",
              "      <th>extract_timestamp</th>\n",
              "      <th>origin</th>\n",
              "      <th>destination</th>\n",
              "      <th>depart_date</th>\n",
              "      <th>best_price</th>\n",
              "    </tr>\n",
              "  </thead>\n",
              "  <tbody>\n",
              "    <tr>\n",
              "      <th>24</th>\n",
              "      <td>2022-12-24 11:25:37.656571</td>\n",
              "      <td>JKTC</td>\n",
              "      <td>BTJ</td>\n",
              "      <td>2023-04-19</td>\n",
              "      <td>2894120.0</td>\n",
              "    </tr>\n",
              "    <tr>\n",
              "      <th>890</th>\n",
              "      <td>2022-12-25 08:06:32.241556</td>\n",
              "      <td>JKTC</td>\n",
              "      <td>BTJ</td>\n",
              "      <td>2023-04-19</td>\n",
              "      <td>2894120.0</td>\n",
              "    </tr>\n",
              "    <tr>\n",
              "      <th>1756</th>\n",
              "      <td>2022-12-25 12:03:33.096194</td>\n",
              "      <td>JKTC</td>\n",
              "      <td>BTJ</td>\n",
              "      <td>2023-04-19</td>\n",
              "      <td>2894120.0</td>\n",
              "    </tr>\n",
              "    <tr>\n",
              "      <th>2622</th>\n",
              "      <td>2022-12-25 18:41:51.562052</td>\n",
              "      <td>JKTC</td>\n",
              "      <td>BTJ</td>\n",
              "      <td>2023-04-19</td>\n",
              "      <td>2894120.0</td>\n",
              "    </tr>\n",
              "    <tr>\n",
              "      <th>3488</th>\n",
              "      <td>2022-12-26 05:04:05.676116</td>\n",
              "      <td>JKTC</td>\n",
              "      <td>BTJ</td>\n",
              "      <td>2023-04-19</td>\n",
              "      <td>2894120.0</td>\n",
              "    </tr>\n",
              "    <tr>\n",
              "      <th>4444</th>\n",
              "      <td>2022-12-29 03:13:11.798742</td>\n",
              "      <td>JKTC</td>\n",
              "      <td>BTJ</td>\n",
              "      <td>2023-04-19</td>\n",
              "      <td>2894120.0</td>\n",
              "    </tr>\n",
              "    <tr>\n",
              "      <th>9647</th>\n",
              "      <td>2022-12-31 01:49:22.466131</td>\n",
              "      <td>JKTC</td>\n",
              "      <td>BTJ</td>\n",
              "      <td>2023-04-19</td>\n",
              "      <td>2868330.0</td>\n",
              "    </tr>\n",
              "    <tr>\n",
              "      <th>14892</th>\n",
              "      <td>2023-01-02 00:37:44.519977</td>\n",
              "      <td>JKTC</td>\n",
              "      <td>BTJ</td>\n",
              "      <td>2023-04-19</td>\n",
              "      <td>2868330.0</td>\n",
              "    </tr>\n",
              "    <tr>\n",
              "      <th>30378</th>\n",
              "      <td>2023-01-16 04:58:00.791632</td>\n",
              "      <td>JKTC</td>\n",
              "      <td>BTJ</td>\n",
              "      <td>2023-04-19</td>\n",
              "      <td>2868330.0</td>\n",
              "    </tr>\n",
              "    <tr>\n",
              "      <th>35131</th>\n",
              "      <td>2023-02-01 09:17:51.827188</td>\n",
              "      <td>JKTC</td>\n",
              "      <td>BTJ</td>\n",
              "      <td>2023-04-19</td>\n",
              "      <td>2105630.0</td>\n",
              "    </tr>\n",
              "    <tr>\n",
              "      <th>40336</th>\n",
              "      <td>2023-02-01 22:44:34.976945</td>\n",
              "      <td>JKTC</td>\n",
              "      <td>BTJ</td>\n",
              "      <td>2023-04-19</td>\n",
              "      <td>2120630.0</td>\n",
              "    </tr>\n",
              "  </tbody>\n",
              "</table>\n",
              "</div>\n",
              "      <button class=\"colab-df-convert\" onclick=\"convertToInteractive('df-a970ce99-f25b-4897-a05a-91236b05972d')\"\n",
              "              title=\"Convert this dataframe to an interactive table.\"\n",
              "              style=\"display:none;\">\n",
              "        \n",
              "  <svg xmlns=\"http://www.w3.org/2000/svg\" height=\"24px\"viewBox=\"0 0 24 24\"\n",
              "       width=\"24px\">\n",
              "    <path d=\"M0 0h24v24H0V0z\" fill=\"none\"/>\n",
              "    <path d=\"M18.56 5.44l.94 2.06.94-2.06 2.06-.94-2.06-.94-.94-2.06-.94 2.06-2.06.94zm-11 1L8.5 8.5l.94-2.06 2.06-.94-2.06-.94L8.5 2.5l-.94 2.06-2.06.94zm10 10l.94 2.06.94-2.06 2.06-.94-2.06-.94-.94-2.06-.94 2.06-2.06.94z\"/><path d=\"M17.41 7.96l-1.37-1.37c-.4-.4-.92-.59-1.43-.59-.52 0-1.04.2-1.43.59L10.3 9.45l-7.72 7.72c-.78.78-.78 2.05 0 2.83L4 21.41c.39.39.9.59 1.41.59.51 0 1.02-.2 1.41-.59l7.78-7.78 2.81-2.81c.8-.78.8-2.07 0-2.86zM5.41 20L4 18.59l7.72-7.72 1.47 1.35L5.41 20z\"/>\n",
              "  </svg>\n",
              "      </button>\n",
              "      \n",
              "  <style>\n",
              "    .colab-df-container {\n",
              "      display:flex;\n",
              "      flex-wrap:wrap;\n",
              "      gap: 12px;\n",
              "    }\n",
              "\n",
              "    .colab-df-convert {\n",
              "      background-color: #E8F0FE;\n",
              "      border: none;\n",
              "      border-radius: 50%;\n",
              "      cursor: pointer;\n",
              "      display: none;\n",
              "      fill: #1967D2;\n",
              "      height: 32px;\n",
              "      padding: 0 0 0 0;\n",
              "      width: 32px;\n",
              "    }\n",
              "\n",
              "    .colab-df-convert:hover {\n",
              "      background-color: #E2EBFA;\n",
              "      box-shadow: 0px 1px 2px rgba(60, 64, 67, 0.3), 0px 1px 3px 1px rgba(60, 64, 67, 0.15);\n",
              "      fill: #174EA6;\n",
              "    }\n",
              "\n",
              "    [theme=dark] .colab-df-convert {\n",
              "      background-color: #3B4455;\n",
              "      fill: #D2E3FC;\n",
              "    }\n",
              "\n",
              "    [theme=dark] .colab-df-convert:hover {\n",
              "      background-color: #434B5C;\n",
              "      box-shadow: 0px 1px 3px 1px rgba(0, 0, 0, 0.15);\n",
              "      filter: drop-shadow(0px 1px 2px rgba(0, 0, 0, 0.3));\n",
              "      fill: #FFFFFF;\n",
              "    }\n",
              "  </style>\n",
              "\n",
              "      <script>\n",
              "        const buttonEl =\n",
              "          document.querySelector('#df-a970ce99-f25b-4897-a05a-91236b05972d button.colab-df-convert');\n",
              "        buttonEl.style.display =\n",
              "          google.colab.kernel.accessAllowed ? 'block' : 'none';\n",
              "\n",
              "        async function convertToInteractive(key) {\n",
              "          const element = document.querySelector('#df-a970ce99-f25b-4897-a05a-91236b05972d');\n",
              "          const dataTable =\n",
              "            await google.colab.kernel.invokeFunction('convertToInteractive',\n",
              "                                                     [key], {});\n",
              "          if (!dataTable) return;\n",
              "\n",
              "          const docLinkHtml = 'Like what you see? Visit the ' +\n",
              "            '<a target=\"_blank\" href=https://colab.research.google.com/notebooks/data_table.ipynb>data table notebook</a>'\n",
              "            + ' to learn more about interactive tables.';\n",
              "          element.innerHTML = '';\n",
              "          dataTable['output_type'] = 'display_data';\n",
              "          await google.colab.output.renderOutput(dataTable, element);\n",
              "          const docLink = document.createElement('div');\n",
              "          docLink.innerHTML = docLinkHtml;\n",
              "          element.appendChild(docLink);\n",
              "        }\n",
              "      </script>\n",
              "    </div>\n",
              "  </div>\n",
              "  "
            ]
          },
          "metadata": {}
        },
        {
          "output_type": "execute_result",
          "data": {
            "text/plain": [
              "([0, 1, 2, 3, 4, 5, 6, 7, 8, 9, 10],\n",
              " <a list of 11 Text major ticklabel objects>)"
            ]
          },
          "metadata": {},
          "execution_count": 9
        },
        {
          "output_type": "display_data",
          "data": {
            "text/plain": [
              "<Figure size 1512x576 with 1 Axes>"
            ],
            "image/png": "[encoded data removed]"
          },
          "metadata": {
            "needs_background": "light"
          }
        }
      ]
    },
    {
      "cell_type": "markdown",
      "source": [
        "##### Make sure no alphanumeric entries in the `best_price` column"
      ],
      "metadata": {
        "id": "E08zEkftBdK8"
      }
    },
    {
      "cell_type": "code",
      "source": [
        "df_new.best_price.apply(lambda x: float(x))"
      ],
      "metadata": {
        "id": "7nolvf3k-QtR",
        "colab": {
          "base_uri": "https://localhost:8080/"
        },
        "outputId": "5e9f722e-bd51-498f-f643-e7bcd0b26da9"
      },
      "execution_count": 10,
      "outputs": [
        {
          "output_type": "execute_result",
          "data": {
            "text/plain": [
              "0        2310582.0\n",
              "1        2310582.0\n",
              "2        2310582.0\n",
              "3        2310582.0\n",
              "4        2316313.0\n",
              "           ...    \n",
              "45433    4786080.0\n",
              "45434    4786080.0\n",
              "45435    4786080.0\n",
              "45436    4786080.0\n",
              "45437    4786080.0\n",
              "Name: best_price, Length: 45438, dtype: float64"
            ]
          },
          "metadata": {},
          "execution_count": 10
        }
      ]
    },
    {
      "cell_type": "markdown",
      "source": [
        "##### Check the departure date"
      ],
      "metadata": {
        "id": "zlqzefKOBhQp"
      }
    },
    {
      "cell_type": "code",
      "source": [
        "df_new.depart_date.value_counts()"
      ],
      "metadata": {
        "id": "PwUZQAxhA6Z8",
        "colab": {
          "base_uri": "https://localhost:8080/"
        },
        "outputId": "1947ab18-ab0c-487e-b5e4-71bc45fc87fa"
      },
      "execution_count": 11,
      "outputs": [
        {
          "output_type": "execute_result",
          "data": {
            "text/plain": [
              "2023-04-04    404\n",
              "2023-04-06    401\n",
              "2023-04-01    401\n",
              "2023-04-05    400\n",
              "2023-04-03    399\n",
              "             ... \n",
              "2024-04-23      1\n",
              "2024-05-23      1\n",
              "2024-05-08      1\n",
              "2024-06-07      1\n",
              "2024-06-22      1\n",
              "Name: depart_date, Length: 233, dtype: int64"
            ]
          },
          "metadata": {},
          "execution_count": 11
        }
      ]
    },
    {
      "cell_type": "code",
      "source": [
        "pd.read_csv(output_file, sep='|').extract_timestamp.value_counts()"
      ],
      "metadata": {
        "colab": {
          "base_uri": "https://localhost:8080/"
        },
        "id": "UKaBLQks7ixr",
        "outputId": "80454f3d-e880-4e92-abd5-aec59f7e4840"
      },
      "execution_count": 12,
      "outputs": [
        {
          "output_type": "execute_result",
          "data": {
            "text/plain": [
              "2022-12-29 03:13:11.798742    5203\n",
              "2022-12-31 01:49:22.466131    5203\n",
              "2023-02-01 09:17:51.827188    5202\n",
              "2023-02-01 22:44:34.976945    5184\n",
              "2023-01-02 00:37:44.519977    5174\n",
              "2023-01-16 04:58:00.791632    4775\n",
              "2023-01-05 05:03:39.672048    3480\n",
              "2023-01-09 02:03:48.781163    3480\n",
              "2023-01-15 22:27:10.250346    3364\n",
              "2022-12-24 11:25:37.656571     866\n",
              "2022-12-25 08:06:32.241556     866\n",
              "2022-12-25 12:03:33.096194     866\n",
              "2022-12-25 18:41:51.562052     866\n",
              "2022-12-26 05:04:05.676116     866\n",
              "2023-01-01 02:09:16.289170      43\n",
              "Name: extract_timestamp, dtype: int64"
            ]
          },
          "metadata": {},
          "execution_count": 12
        }
      ]
    }
  ]
}